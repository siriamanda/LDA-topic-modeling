{
 "cells": [
  {
   "cell_type": "markdown",
   "metadata": {},
   "source": [
    "LDA Topic Modeling and VADER Sentiment Analysis"
   ]
  },
  {
   "cell_type": "code",
   "execution_count": 152,
   "metadata": {},
   "outputs": [],
   "source": [
    "import pandas as pd\n",
    "\n",
    "import gensim\n",
    "from gensim.utils import simple_preprocess\n",
    "from gensim.parsing.preprocessing import STOPWORDS\n",
    "from gensim import corpora, models\n",
    "from pprint import pprint\n",
    "\n",
    "import nltk\n",
    "from nltk.corpus import stopwords\n",
    "from nltk.tokenize import RegexpTokenizer\n",
    "from nltk.stem import WordNetLemmatizer, SnowballStemmer\n",
    "from nltk.tag import pos_tag, pos_tag_sents\n",
    "from nltk.corpus import wordnet\n",
    "\n",
    "from nltk.sentiment.vader import SentimentIntensityAnalyzer\n"
   ]
  },
  {
   "cell_type": "code",
   "execution_count": 153,
   "metadata": {},
   "outputs": [],
   "source": [
    "data = pd.read_csv('asos-reviews-with-rating.csv')"
   ]
  },
  {
   "cell_type": "code",
   "execution_count": 154,
   "metadata": {},
   "outputs": [
    {
     "data": {
      "text/html": [
       "<div>\n",
       "<style scoped>\n",
       "    .dataframe tbody tr th:only-of-type {\n",
       "        vertical-align: middle;\n",
       "    }\n",
       "\n",
       "    .dataframe tbody tr th {\n",
       "        vertical-align: top;\n",
       "    }\n",
       "\n",
       "    .dataframe thead th {\n",
       "        text-align: right;\n",
       "    }\n",
       "</style>\n",
       "<table border=\"1\" class=\"dataframe\">\n",
       "  <thead>\n",
       "    <tr style=\"text-align: right;\">\n",
       "      <th></th>\n",
       "      <th>Unnamed: 0</th>\n",
       "      <th>date</th>\n",
       "      <th>review</th>\n",
       "      <th>rating</th>\n",
       "    </tr>\n",
       "  </thead>\n",
       "  <tbody>\n",
       "    <tr>\n",
       "      <th>0</th>\n",
       "      <td>0</td>\n",
       "      <td>2020-12-09</td>\n",
       "      <td>Cristy was amazing                            ...</td>\n",
       "      <td>5 stars: Excellent</td>\n",
       "    </tr>\n",
       "    <tr>\n",
       "      <th>1</th>\n",
       "      <td>1</td>\n",
       "      <td>2020-12-09</td>\n",
       "      <td>Unhappy customer                              ...</td>\n",
       "      <td>1 star: Bad</td>\n",
       "    </tr>\n",
       "    <tr>\n",
       "      <th>2</th>\n",
       "      <td>2</td>\n",
       "      <td>2020-12-09</td>\n",
       "      <td>Still Waiting                                P...</td>\n",
       "      <td>2 stars: Poor</td>\n",
       "    </tr>\n",
       "    <tr>\n",
       "      <th>3</th>\n",
       "      <td>3</td>\n",
       "      <td>2020-12-09</td>\n",
       "      <td>Great after sales support                     ...</td>\n",
       "      <td>5 stars: Excellent</td>\n",
       "    </tr>\n",
       "    <tr>\n",
       "      <th>4</th>\n",
       "      <td>4</td>\n",
       "      <td>2020-12-09</td>\n",
       "      <td>Michael was very polite and helpful…          ...</td>\n",
       "      <td>5 stars: Excellent</td>\n",
       "    </tr>\n",
       "  </tbody>\n",
       "</table>\n",
       "</div>"
      ],
      "text/plain": [
       "   Unnamed: 0        date                                             review  \\\n",
       "0           0  2020-12-09  Cristy was amazing                            ...   \n",
       "1           1  2020-12-09  Unhappy customer                              ...   \n",
       "2           2  2020-12-09  Still Waiting                                P...   \n",
       "3           3  2020-12-09  Great after sales support                     ...   \n",
       "4           4  2020-12-09  Michael was very polite and helpful…          ...   \n",
       "\n",
       "               rating  \n",
       "0  5 stars: Excellent  \n",
       "1         1 star: Bad  \n",
       "2       2 stars: Poor  \n",
       "3  5 stars: Excellent  \n",
       "4  5 stars: Excellent  "
      ]
     },
     "execution_count": 154,
     "metadata": {},
     "output_type": "execute_result"
    }
   ],
   "source": [
    "data.head()"
   ]
  },
  {
   "cell_type": "code",
   "execution_count": 155,
   "metadata": {},
   "outputs": [],
   "source": [
    "# Create new dataframe with only the reviews\n",
    "\n",
    "reviews = data['review']"
   ]
  },
  {
   "cell_type": "code",
   "execution_count": 156,
   "metadata": {},
   "outputs": [
    {
     "data": {
      "text/html": [
       "<div>\n",
       "<style scoped>\n",
       "    .dataframe tbody tr th:only-of-type {\n",
       "        vertical-align: middle;\n",
       "    }\n",
       "\n",
       "    .dataframe tbody tr th {\n",
       "        vertical-align: top;\n",
       "    }\n",
       "\n",
       "    .dataframe thead th {\n",
       "        text-align: right;\n",
       "    }\n",
       "</style>\n",
       "<table border=\"1\" class=\"dataframe\">\n",
       "  <thead>\n",
       "    <tr style=\"text-align: right;\">\n",
       "      <th></th>\n",
       "      <th>reviews</th>\n",
       "    </tr>\n",
       "  </thead>\n",
       "  <tbody>\n",
       "    <tr>\n",
       "      <th>0</th>\n",
       "      <td>Cristy was amazing                            ...</td>\n",
       "    </tr>\n",
       "    <tr>\n",
       "      <th>1</th>\n",
       "      <td>Unhappy customer                              ...</td>\n",
       "    </tr>\n",
       "    <tr>\n",
       "      <th>2</th>\n",
       "      <td>Still Waiting                                P...</td>\n",
       "    </tr>\n",
       "    <tr>\n",
       "      <th>3</th>\n",
       "      <td>Great after sales support                     ...</td>\n",
       "    </tr>\n",
       "    <tr>\n",
       "      <th>4</th>\n",
       "      <td>Michael was very polite and helpful…          ...</td>\n",
       "    </tr>\n",
       "  </tbody>\n",
       "</table>\n",
       "</div>"
      ],
      "text/plain": [
       "                                             reviews\n",
       "0  Cristy was amazing                            ...\n",
       "1  Unhappy customer                              ...\n",
       "2  Still Waiting                                P...\n",
       "3  Great after sales support                     ...\n",
       "4  Michael was very polite and helpful…          ..."
      ]
     },
     "execution_count": 156,
     "metadata": {},
     "output_type": "execute_result"
    }
   ],
   "source": [
    "reviews = pd.DataFrame(reviews.values, columns = ['reviews'])\n",
    "reviews.head()"
   ]
  },
  {
   "cell_type": "code",
   "execution_count": 157,
   "metadata": {},
   "outputs": [],
   "source": [
    "reviews['original'] = reviews['reviews']"
   ]
  },
  {
   "cell_type": "markdown",
   "metadata": {},
   "source": [
    "### VADER\n",
    "\n",
    "Code from: https://towardsdatascience.com/sentimental-analysis-using-vader-a3415fef7664\n",
    "\n",
    "The incredible thing about VADER is it doesn’t require a great deal of preprocessing to work. Unlike with some supervised methods of NLP, preprocessing necessities such as tokenisation and stemming/lemmatisation are not required. You can pretty much plug in any body of text and it will determine the sentiment.\n",
    "\n",
    "VADER is even smart enough to understand the valence of non-conventional text, including emojis (i.e. :-( ), capitalisation (i.e. sad vs SAD) and extended punctuation (i.e. ? vs ???). This is what makes the module so good at analysing social media text. Additionally, VADER removes stop words automatically so there is no need to do so yourself.\n",
    "\n",
    "Ref: https://towardsdatascience.com/an-short-introduction-to-vader-3f3860208d53\n",
    "\n",
    "Capitalisation, punctualtions and emoticons can actually add sentiment in a text therefore these should be included when applying the VADER lexicon\n",
    "\n",
    "https://www.kaggle.com/hassanamin/unsupervised-sentiment-analysis-using-vader "
   ]
  },
  {
   "cell_type": "code",
   "execution_count": 158,
   "metadata": {},
   "outputs": [],
   "source": [
    "# Create the sentiment analyzer\n",
    "\n",
    "analyzer = SentimentIntensityAnalyzer()"
   ]
  },
  {
   "cell_type": "code",
   "execution_count": 159,
   "metadata": {},
   "outputs": [
    {
     "data": {
      "text/html": [
       "<div>\n",
       "<style scoped>\n",
       "    .dataframe tbody tr th:only-of-type {\n",
       "        vertical-align: middle;\n",
       "    }\n",
       "\n",
       "    .dataframe tbody tr th {\n",
       "        vertical-align: top;\n",
       "    }\n",
       "\n",
       "    .dataframe thead th {\n",
       "        text-align: right;\n",
       "    }\n",
       "</style>\n",
       "<table border=\"1\" class=\"dataframe\">\n",
       "  <thead>\n",
       "    <tr style=\"text-align: right;\">\n",
       "      <th></th>\n",
       "      <th>reviews</th>\n",
       "      <th>original</th>\n",
       "      <th>scores</th>\n",
       "    </tr>\n",
       "  </thead>\n",
       "  <tbody>\n",
       "    <tr>\n",
       "      <th>0</th>\n",
       "      <td>Cristy was amazing                            ...</td>\n",
       "      <td>Cristy was amazing                            ...</td>\n",
       "      <td>{'neg': 0.048, 'neu': 0.616, 'pos': 0.336, 'co...</td>\n",
       "    </tr>\n",
       "    <tr>\n",
       "      <th>1</th>\n",
       "      <td>Unhappy customer                              ...</td>\n",
       "      <td>Unhappy customer                              ...</td>\n",
       "      <td>{'neg': 0.156, 'neu': 0.827, 'pos': 0.017, 'co...</td>\n",
       "    </tr>\n",
       "    <tr>\n",
       "      <th>2</th>\n",
       "      <td>Still Waiting                                P...</td>\n",
       "      <td>Still Waiting                                P...</td>\n",
       "      <td>{'neg': 0.0, 'neu': 1.0, 'pos': 0.0, 'compound...</td>\n",
       "    </tr>\n",
       "    <tr>\n",
       "      <th>3</th>\n",
       "      <td>Great after sales support                     ...</td>\n",
       "      <td>Great after sales support                     ...</td>\n",
       "      <td>{'neg': 0.0, 'neu': 0.234, 'pos': 0.766, 'comp...</td>\n",
       "    </tr>\n",
       "    <tr>\n",
       "      <th>4</th>\n",
       "      <td>Michael was very polite and helpful…          ...</td>\n",
       "      <td>Michael was very polite and helpful…          ...</td>\n",
       "      <td>{'neg': 0.119, 'neu': 0.662, 'pos': 0.219, 'co...</td>\n",
       "    </tr>\n",
       "  </tbody>\n",
       "</table>\n",
       "</div>"
      ],
      "text/plain": [
       "                                             reviews  \\\n",
       "0  Cristy was amazing                            ...   \n",
       "1  Unhappy customer                              ...   \n",
       "2  Still Waiting                                P...   \n",
       "3  Great after sales support                     ...   \n",
       "4  Michael was very polite and helpful…          ...   \n",
       "\n",
       "                                            original  \\\n",
       "0  Cristy was amazing                            ...   \n",
       "1  Unhappy customer                              ...   \n",
       "2  Still Waiting                                P...   \n",
       "3  Great after sales support                     ...   \n",
       "4  Michael was very polite and helpful…          ...   \n",
       "\n",
       "                                              scores  \n",
       "0  {'neg': 0.048, 'neu': 0.616, 'pos': 0.336, 'co...  \n",
       "1  {'neg': 0.156, 'neu': 0.827, 'pos': 0.017, 'co...  \n",
       "2  {'neg': 0.0, 'neu': 1.0, 'pos': 0.0, 'compound...  \n",
       "3  {'neg': 0.0, 'neu': 0.234, 'pos': 0.766, 'comp...  \n",
       "4  {'neg': 0.119, 'neu': 0.662, 'pos': 0.219, 'co...  "
      ]
     },
     "execution_count": 159,
     "metadata": {},
     "output_type": "execute_result"
    }
   ],
   "source": [
    "# Calculate the sentiment score\n",
    "\n",
    "reviews['scores'] = reviews['reviews'].apply(lambda review: analyzer.polarity_scores(review))\n",
    "\n",
    "reviews.head()"
   ]
  },
  {
   "cell_type": "code",
   "execution_count": 160,
   "metadata": {},
   "outputs": [
    {
     "data": {
      "text/html": [
       "<div>\n",
       "<style scoped>\n",
       "    .dataframe tbody tr th:only-of-type {\n",
       "        vertical-align: middle;\n",
       "    }\n",
       "\n",
       "    .dataframe tbody tr th {\n",
       "        vertical-align: top;\n",
       "    }\n",
       "\n",
       "    .dataframe thead th {\n",
       "        text-align: right;\n",
       "    }\n",
       "</style>\n",
       "<table border=\"1\" class=\"dataframe\">\n",
       "  <thead>\n",
       "    <tr style=\"text-align: right;\">\n",
       "      <th></th>\n",
       "      <th>reviews</th>\n",
       "      <th>original</th>\n",
       "      <th>scores</th>\n",
       "      <th>compound</th>\n",
       "    </tr>\n",
       "  </thead>\n",
       "  <tbody>\n",
       "    <tr>\n",
       "      <th>0</th>\n",
       "      <td>Cristy was amazing                            ...</td>\n",
       "      <td>Cristy was amazing                            ...</td>\n",
       "      <td>{'neg': 0.048, 'neu': 0.616, 'pos': 0.336, 'co...</td>\n",
       "      <td>0.9334</td>\n",
       "    </tr>\n",
       "    <tr>\n",
       "      <th>1</th>\n",
       "      <td>Unhappy customer                              ...</td>\n",
       "      <td>Unhappy customer                              ...</td>\n",
       "      <td>{'neg': 0.156, 'neu': 0.827, 'pos': 0.017, 'co...</td>\n",
       "      <td>-0.9917</td>\n",
       "    </tr>\n",
       "    <tr>\n",
       "      <th>2</th>\n",
       "      <td>Still Waiting                                P...</td>\n",
       "      <td>Still Waiting                                P...</td>\n",
       "      <td>{'neg': 0.0, 'neu': 1.0, 'pos': 0.0, 'compound...</td>\n",
       "      <td>0.0000</td>\n",
       "    </tr>\n",
       "    <tr>\n",
       "      <th>3</th>\n",
       "      <td>Great after sales support                     ...</td>\n",
       "      <td>Great after sales support                     ...</td>\n",
       "      <td>{'neg': 0.0, 'neu': 0.234, 'pos': 0.766, 'comp...</td>\n",
       "      <td>0.9468</td>\n",
       "    </tr>\n",
       "    <tr>\n",
       "      <th>4</th>\n",
       "      <td>Michael was very polite and helpful…          ...</td>\n",
       "      <td>Michael was very polite and helpful…          ...</td>\n",
       "      <td>{'neg': 0.119, 'neu': 0.662, 'pos': 0.219, 'co...</td>\n",
       "      <td>0.3102</td>\n",
       "    </tr>\n",
       "  </tbody>\n",
       "</table>\n",
       "</div>"
      ],
      "text/plain": [
       "                                             reviews  \\\n",
       "0  Cristy was amazing                            ...   \n",
       "1  Unhappy customer                              ...   \n",
       "2  Still Waiting                                P...   \n",
       "3  Great after sales support                     ...   \n",
       "4  Michael was very polite and helpful…          ...   \n",
       "\n",
       "                                            original  \\\n",
       "0  Cristy was amazing                            ...   \n",
       "1  Unhappy customer                              ...   \n",
       "2  Still Waiting                                P...   \n",
       "3  Great after sales support                     ...   \n",
       "4  Michael was very polite and helpful…          ...   \n",
       "\n",
       "                                              scores  compound  \n",
       "0  {'neg': 0.048, 'neu': 0.616, 'pos': 0.336, 'co...    0.9334  \n",
       "1  {'neg': 0.156, 'neu': 0.827, 'pos': 0.017, 'co...   -0.9917  \n",
       "2  {'neg': 0.0, 'neu': 1.0, 'pos': 0.0, 'compound...    0.0000  \n",
       "3  {'neg': 0.0, 'neu': 0.234, 'pos': 0.766, 'comp...    0.9468  \n",
       "4  {'neg': 0.119, 'neu': 0.662, 'pos': 0.219, 'co...    0.3102  "
      ]
     },
     "execution_count": 160,
     "metadata": {},
     "output_type": "execute_result"
    }
   ],
   "source": [
    "# Extract the compound score\n",
    "\n",
    "reviews['compound'] = reviews['scores'].apply(lambda score_dict: score_dict['compound'])\n",
    "\n",
    "reviews.head()"
   ]
  },
  {
   "cell_type": "code",
   "execution_count": 161,
   "metadata": {},
   "outputs": [],
   "source": [
    "sentiment = []\n",
    "\n",
    "for row in reviews['compound']:\n",
    "    if row > 0.05:\n",
    "        sentiment.append('pos')\n",
    "    elif row < -0.05:\n",
    "        sentiment.append('neg')\n",
    "    else:\n",
    "        sentiment.append('neu')\n"
   ]
  },
  {
   "cell_type": "code",
   "execution_count": 162,
   "metadata": {},
   "outputs": [],
   "source": [
    "reviews['sentiment'] = sentiment"
   ]
  },
  {
   "cell_type": "code",
   "execution_count": 163,
   "metadata": {},
   "outputs": [
    {
     "data": {
      "text/html": [
       "<div>\n",
       "<style scoped>\n",
       "    .dataframe tbody tr th:only-of-type {\n",
       "        vertical-align: middle;\n",
       "    }\n",
       "\n",
       "    .dataframe tbody tr th {\n",
       "        vertical-align: top;\n",
       "    }\n",
       "\n",
       "    .dataframe thead th {\n",
       "        text-align: right;\n",
       "    }\n",
       "</style>\n",
       "<table border=\"1\" class=\"dataframe\">\n",
       "  <thead>\n",
       "    <tr style=\"text-align: right;\">\n",
       "      <th></th>\n",
       "      <th>reviews</th>\n",
       "      <th>original</th>\n",
       "      <th>scores</th>\n",
       "      <th>compound</th>\n",
       "      <th>sentiment</th>\n",
       "    </tr>\n",
       "  </thead>\n",
       "  <tbody>\n",
       "    <tr>\n",
       "      <th>0</th>\n",
       "      <td>Cristy was amazing                            ...</td>\n",
       "      <td>Cristy was amazing                            ...</td>\n",
       "      <td>{'neg': 0.048, 'neu': 0.616, 'pos': 0.336, 'co...</td>\n",
       "      <td>0.9334</td>\n",
       "      <td>pos</td>\n",
       "    </tr>\n",
       "    <tr>\n",
       "      <th>1</th>\n",
       "      <td>Unhappy customer                              ...</td>\n",
       "      <td>Unhappy customer                              ...</td>\n",
       "      <td>{'neg': 0.156, 'neu': 0.827, 'pos': 0.017, 'co...</td>\n",
       "      <td>-0.9917</td>\n",
       "      <td>neg</td>\n",
       "    </tr>\n",
       "    <tr>\n",
       "      <th>2</th>\n",
       "      <td>Still Waiting                                P...</td>\n",
       "      <td>Still Waiting                                P...</td>\n",
       "      <td>{'neg': 0.0, 'neu': 1.0, 'pos': 0.0, 'compound...</td>\n",
       "      <td>0.0000</td>\n",
       "      <td>neu</td>\n",
       "    </tr>\n",
       "    <tr>\n",
       "      <th>3</th>\n",
       "      <td>Great after sales support                     ...</td>\n",
       "      <td>Great after sales support                     ...</td>\n",
       "      <td>{'neg': 0.0, 'neu': 0.234, 'pos': 0.766, 'comp...</td>\n",
       "      <td>0.9468</td>\n",
       "      <td>pos</td>\n",
       "    </tr>\n",
       "    <tr>\n",
       "      <th>4</th>\n",
       "      <td>Michael was very polite and helpful…          ...</td>\n",
       "      <td>Michael was very polite and helpful…          ...</td>\n",
       "      <td>{'neg': 0.119, 'neu': 0.662, 'pos': 0.219, 'co...</td>\n",
       "      <td>0.3102</td>\n",
       "      <td>pos</td>\n",
       "    </tr>\n",
       "  </tbody>\n",
       "</table>\n",
       "</div>"
      ],
      "text/plain": [
       "                                             reviews  \\\n",
       "0  Cristy was amazing                            ...   \n",
       "1  Unhappy customer                              ...   \n",
       "2  Still Waiting                                P...   \n",
       "3  Great after sales support                     ...   \n",
       "4  Michael was very polite and helpful…          ...   \n",
       "\n",
       "                                            original  \\\n",
       "0  Cristy was amazing                            ...   \n",
       "1  Unhappy customer                              ...   \n",
       "2  Still Waiting                                P...   \n",
       "3  Great after sales support                     ...   \n",
       "4  Michael was very polite and helpful…          ...   \n",
       "\n",
       "                                              scores  compound sentiment  \n",
       "0  {'neg': 0.048, 'neu': 0.616, 'pos': 0.336, 'co...    0.9334       pos  \n",
       "1  {'neg': 0.156, 'neu': 0.827, 'pos': 0.017, 'co...   -0.9917       neg  \n",
       "2  {'neg': 0.0, 'neu': 1.0, 'pos': 0.0, 'compound...    0.0000       neu  \n",
       "3  {'neg': 0.0, 'neu': 0.234, 'pos': 0.766, 'comp...    0.9468       pos  \n",
       "4  {'neg': 0.119, 'neu': 0.662, 'pos': 0.219, 'co...    0.3102       pos  "
      ]
     },
     "execution_count": 163,
     "metadata": {},
     "output_type": "execute_result"
    }
   ],
   "source": [
    "reviews.head()"
   ]
  },
  {
   "cell_type": "markdown",
   "metadata": {},
   "source": [
    "### Preprocessing"
   ]
  },
  {
   "cell_type": "code",
   "execution_count": 164,
   "metadata": {},
   "outputs": [
    {
     "data": {
      "text/plain": [
       "0    cristy was amazing i spoke with cristy and she...\n",
       "1    unhappy customer i placed an order at the end ...\n",
       "2    still waiting placed an order 3rd december and...\n",
       "3    great after sales support great after sales su...\n",
       "4    michael was very polite and helpful… michael w...\n",
       "Name: reviews, dtype: object"
      ]
     },
     "execution_count": 164,
     "metadata": {},
     "output_type": "execute_result"
    }
   ],
   "source": [
    "# Covert to lowercase\n",
    "\n",
    "reviews['reviews'] =  reviews['reviews'].apply(lambda x: \" \".join(x.lower() for x in x.split()))\n",
    "reviews['reviews'].head()"
   ]
  },
  {
   "cell_type": "code",
   "execution_count": 165,
   "metadata": {
    "scrolled": true
   },
   "outputs": [
    {
     "data": {
      "text/plain": [
       "0    cristy was amazing i spoke with cristy and she...\n",
       "1    unhappy customer i placed an order at the end ...\n",
       "2    still waiting placed an order 3rd december and...\n",
       "3    great after sales support great after sales su...\n",
       "4    michael was very polite and helpful michael wa...\n",
       "Name: reviews, dtype: object"
      ]
     },
     "execution_count": 165,
     "metadata": {},
     "output_type": "execute_result"
    }
   ],
   "source": [
    "# Remove punctuations\n",
    "\n",
    "reviews['reviews'] = reviews['reviews'].str.replace('[^\\w\\s]','')\n",
    "reviews['reviews'].head()"
   ]
  },
  {
   "cell_type": "code",
   "execution_count": 166,
   "metadata": {},
   "outputs": [
    {
     "data": {
      "text/plain": [
       "0    cristy amazing spoke cristy brilliant although...\n",
       "1    unhappy customer placed order end november bla...\n",
       "2    still waiting placed order 3rd december still ...\n",
       "3        great sales support great sales support thank\n",
       "4    michael polite helpful michael polite helpful ...\n",
       "Name: reviews, dtype: object"
      ]
     },
     "execution_count": 166,
     "metadata": {},
     "output_type": "execute_result"
    }
   ],
   "source": [
    "# Remove stopwords\n",
    "\n",
    "stop = stopwords.words('english')\n",
    "\n",
    "reviews['reviews'] = reviews['reviews'].apply(lambda x: \" \".join(x for x in x.split() if x not in stop))\n",
    "reviews['reviews'].head()"
   ]
  },
  {
   "cell_type": "code",
   "execution_count": 167,
   "metadata": {
    "scrolled": true
   },
   "outputs": [
    {
     "data": {
      "text/plain": [
       "0    [cristy, amazing, spoke, cristy, brilliant, al...\n",
       "1    [unhappy, customer, placed, order, end, novemb...\n",
       "2    [still, waiting, placed, order, 3rd, december,...\n",
       "3    [great, sales, support, great, sales, support,...\n",
       "4    [michael, polite, helpful, michael, polite, he...\n",
       "Name: reviews, dtype: object"
      ]
     },
     "execution_count": 167,
     "metadata": {},
     "output_type": "execute_result"
    }
   ],
   "source": [
    "# Tokenization\n",
    "\n",
    "tokenizer = RegexpTokenizer(r'\\w+')\n",
    "\n",
    "reviews['reviews'] = reviews['reviews'].apply(lambda x: tokenizer.tokenize(x.lower()))\n",
    "reviews['reviews'].head(5)"
   ]
  },
  {
   "cell_type": "code",
   "execution_count": 168,
   "metadata": {},
   "outputs": [
    {
     "data": {
      "text/plain": [
       "0    [(cristy, JJ), (amazing, VBG), (spoke, NN), (c...\n",
       "1    [(unhappy, JJ), (customer, NN), (placed, VBD),...\n",
       "2    [(still, RB), (waiting, VBG), (placed, VBN), (...\n",
       "3    [(great, JJ), (sales, NNS), (support, NN), (gr...\n",
       "4    [(michael, NN), (polite, VBP), (helpful, JJ), ...\n",
       "Name: reviews, dtype: object"
      ]
     },
     "execution_count": 168,
     "metadata": {},
     "output_type": "execute_result"
    }
   ],
   "source": [
    "# Add speech tags\n",
    "\n",
    "reviews['reviews']= reviews['reviews'].apply(nltk.tag.pos_tag)\n",
    "reviews['reviews'].head()"
   ]
  },
  {
   "cell_type": "code",
   "execution_count": 169,
   "metadata": {},
   "outputs": [],
   "source": [
    "# Define function to convert parts of speech tags to wordnet’s format\n",
    "\n",
    "def get_wordnet_pos(tag):\n",
    "    if tag.startswith('J'):\n",
    "        return wordnet.ADJ\n",
    "    elif tag.startswith('V'):\n",
    "        return wordnet.VERB\n",
    "    elif tag.startswith('N'):\n",
    "        return wordnet.NOUN\n",
    "    elif tag.startswith('R'):\n",
    "        return wordnet.ADV\n",
    "    else:\n",
    "        return wordnet.NOUN"
   ]
  },
  {
   "cell_type": "code",
   "execution_count": 170,
   "metadata": {},
   "outputs": [
    {
     "data": {
      "text/plain": [
       "0    [(cristy, a), (amazing, v), (spoke, n), (crist...\n",
       "1    [(unhappy, a), (customer, n), (placed, v), (or...\n",
       "2    [(still, r), (waiting, v), (placed, v), (order...\n",
       "3    [(great, a), (sales, n), (support, n), (great,...\n",
       "4    [(michael, n), (polite, v), (helpful, a), (mic...\n",
       "Name: reviews, dtype: object"
      ]
     },
     "execution_count": 170,
     "metadata": {},
     "output_type": "execute_result"
    }
   ],
   "source": [
    "# Apply the function to the tagged data\n",
    "\n",
    "reviews['reviews'] = reviews['reviews'].apply(lambda x: [(word, get_wordnet_pos(pos_tag)) for (word, pos_tag) in x])\n",
    "reviews['reviews'].head()"
   ]
  },
  {
   "cell_type": "code",
   "execution_count": 171,
   "metadata": {},
   "outputs": [
    {
     "data": {
      "text/plain": [
       "0    [cristy, amaze, spoke, cristy, brilliant, alth...\n",
       "1    [unhappy, customer, place, order, end, novembe...\n",
       "2    [still, wait, place, order, 3rd, december, sti...\n",
       "3    [great, sale, support, great, sale, support, t...\n",
       "4    [michael, polite, helpful, michael, polite, he...\n",
       "Name: reviews, dtype: object"
      ]
     },
     "execution_count": 171,
     "metadata": {},
     "output_type": "execute_result"
    }
   ],
   "source": [
    "# Create lemmatizer\n",
    "\n",
    "lemmatizer = WordNetLemmatizer()\n",
    "\n",
    "# Apply to data \n",
    "\n",
    "reviews['reviews'] = reviews['reviews'].apply(lambda x: [lemmatizer.lemmatize(word, tag) for word, tag in x])\n",
    "reviews['reviews'].head()\n"
   ]
  },
  {
   "cell_type": "code",
   "execution_count": 172,
   "metadata": {},
   "outputs": [
    {
     "data": {
      "text/html": [
       "<div>\n",
       "<style scoped>\n",
       "    .dataframe tbody tr th:only-of-type {\n",
       "        vertical-align: middle;\n",
       "    }\n",
       "\n",
       "    .dataframe tbody tr th {\n",
       "        vertical-align: top;\n",
       "    }\n",
       "\n",
       "    .dataframe thead th {\n",
       "        text-align: right;\n",
       "    }\n",
       "</style>\n",
       "<table border=\"1\" class=\"dataframe\">\n",
       "  <thead>\n",
       "    <tr style=\"text-align: right;\">\n",
       "      <th></th>\n",
       "      <th>reviews</th>\n",
       "      <th>original</th>\n",
       "      <th>scores</th>\n",
       "      <th>compound</th>\n",
       "      <th>sentiment</th>\n",
       "    </tr>\n",
       "  </thead>\n",
       "  <tbody>\n",
       "    <tr>\n",
       "      <th>0</th>\n",
       "      <td>[cristy, amaze, spoke, cristy, brilliant, alth...</td>\n",
       "      <td>Cristy was amazing                            ...</td>\n",
       "      <td>{'neg': 0.048, 'neu': 0.616, 'pos': 0.336, 'co...</td>\n",
       "      <td>0.9334</td>\n",
       "      <td>pos</td>\n",
       "    </tr>\n",
       "    <tr>\n",
       "      <th>1</th>\n",
       "      <td>[unhappy, customer, place, order, end, novembe...</td>\n",
       "      <td>Unhappy customer                              ...</td>\n",
       "      <td>{'neg': 0.156, 'neu': 0.827, 'pos': 0.017, 'co...</td>\n",
       "      <td>-0.9917</td>\n",
       "      <td>neg</td>\n",
       "    </tr>\n",
       "    <tr>\n",
       "      <th>2</th>\n",
       "      <td>[still, wait, place, order, 3rd, december, sti...</td>\n",
       "      <td>Still Waiting                                P...</td>\n",
       "      <td>{'neg': 0.0, 'neu': 1.0, 'pos': 0.0, 'compound...</td>\n",
       "      <td>0.0000</td>\n",
       "      <td>neu</td>\n",
       "    </tr>\n",
       "    <tr>\n",
       "      <th>3</th>\n",
       "      <td>[great, sale, support, great, sale, support, t...</td>\n",
       "      <td>Great after sales support                     ...</td>\n",
       "      <td>{'neg': 0.0, 'neu': 0.234, 'pos': 0.766, 'comp...</td>\n",
       "      <td>0.9468</td>\n",
       "      <td>pos</td>\n",
       "    </tr>\n",
       "    <tr>\n",
       "      <th>4</th>\n",
       "      <td>[michael, polite, helpful, michael, polite, he...</td>\n",
       "      <td>Michael was very polite and helpful…          ...</td>\n",
       "      <td>{'neg': 0.119, 'neu': 0.662, 'pos': 0.219, 'co...</td>\n",
       "      <td>0.3102</td>\n",
       "      <td>pos</td>\n",
       "    </tr>\n",
       "  </tbody>\n",
       "</table>\n",
       "</div>"
      ],
      "text/plain": [
       "                                             reviews  \\\n",
       "0  [cristy, amaze, spoke, cristy, brilliant, alth...   \n",
       "1  [unhappy, customer, place, order, end, novembe...   \n",
       "2  [still, wait, place, order, 3rd, december, sti...   \n",
       "3  [great, sale, support, great, sale, support, t...   \n",
       "4  [michael, polite, helpful, michael, polite, he...   \n",
       "\n",
       "                                            original  \\\n",
       "0  Cristy was amazing                            ...   \n",
       "1  Unhappy customer                              ...   \n",
       "2  Still Waiting                                P...   \n",
       "3  Great after sales support                     ...   \n",
       "4  Michael was very polite and helpful…          ...   \n",
       "\n",
       "                                              scores  compound sentiment  \n",
       "0  {'neg': 0.048, 'neu': 0.616, 'pos': 0.336, 'co...    0.9334       pos  \n",
       "1  {'neg': 0.156, 'neu': 0.827, 'pos': 0.017, 'co...   -0.9917       neg  \n",
       "2  {'neg': 0.0, 'neu': 1.0, 'pos': 0.0, 'compound...    0.0000       neu  \n",
       "3  {'neg': 0.0, 'neu': 0.234, 'pos': 0.766, 'comp...    0.9468       pos  \n",
       "4  {'neg': 0.119, 'neu': 0.662, 'pos': 0.219, 'co...    0.3102       pos  "
      ]
     },
     "execution_count": 172,
     "metadata": {},
     "output_type": "execute_result"
    }
   ],
   "source": [
    "reviews.head()"
   ]
  },
  {
   "cell_type": "markdown",
   "metadata": {},
   "source": [
    "### LDA Topic Modeling\n",
    "\n",
    "https://towardsdatascience.com/topic-modeling-and-latent-dirichlet-allocation-in-python-9bf156893c24"
   ]
  },
  {
   "cell_type": "code",
   "execution_count": 173,
   "metadata": {},
   "outputs": [],
   "source": [
    "stemmer = SnowballStemmer('english')"
   ]
  },
  {
   "cell_type": "code",
   "execution_count": 174,
   "metadata": {},
   "outputs": [
    {
     "data": {
      "text/plain": [
       "0    [cristi, amaz, spoke, cristi, brilliant, altho...\n",
       "1    [unhappi, custom, place, order, end, novemb, b...\n",
       "2    [still, wait, place, order, 3rd, decemb, still...\n",
       "3    [great, sale, support, great, sale, support, t...\n",
       "4    [michael, polit, help, michael, polit, help, s...\n",
       "Name: reviews, dtype: object"
      ]
     },
     "execution_count": 174,
     "metadata": {},
     "output_type": "execute_result"
    }
   ],
   "source": [
    "reviews['reviews'] = reviews['reviews'].apply(lambda x: [stemmer.stem(token) for token in x])\n",
    "reviews['reviews'].head()"
   ]
  },
  {
   "cell_type": "code",
   "execution_count": 175,
   "metadata": {},
   "outputs": [],
   "source": [
    "# create a generic dictionary of the words and frequecnies present in the corpus\n",
    "\n",
    "dictionary = gensim.corpora.Dictionary(reviews['reviews'])"
   ]
  },
  {
   "cell_type": "code",
   "execution_count": 176,
   "metadata": {},
   "outputs": [],
   "source": [
    "# remove the extreme terms, appearing either too many times, as well as too few, and keep the most frequent 100k terms using gensim\n",
    "\n",
    "dictionary.filter_extremes(no_below = 50, no_above = 0.5, keep_n = 100000)"
   ]
  },
  {
   "cell_type": "code",
   "execution_count": 177,
   "metadata": {},
   "outputs": [],
   "source": [
    "# create the corpus using gensim's doc2bow\n",
    "\n",
    "corpus = [dictionary.doc2bow(doc) for doc in reviews['reviews']]"
   ]
  },
  {
   "cell_type": "code",
   "execution_count": 178,
   "metadata": {},
   "outputs": [
    {
     "data": {
      "text/plain": [
       "[(0, 1),\n",
       " (1, 1),\n",
       " (2, 1),\n",
       " (3, 1),\n",
       " (4, 1),\n",
       " (5, 1),\n",
       " (6, 1),\n",
       " (7, 1),\n",
       " (8, 1),\n",
       " (9, 1),\n",
       " (10, 1),\n",
       " (11, 1),\n",
       " (12, 1)]"
      ]
     },
     "execution_count": 178,
     "metadata": {},
     "output_type": "execute_result"
    }
   ],
   "source": [
    "corpus[0]"
   ]
  },
  {
   "cell_type": "code",
   "execution_count": 179,
   "metadata": {},
   "outputs": [],
   "source": [
    "# repeat using TF-IDF\n",
    "\n",
    "from gensim import corpora, models\n",
    "\n",
    "tfidf = models.TfidfModel(corpus)"
   ]
  },
  {
   "cell_type": "code",
   "execution_count": 180,
   "metadata": {},
   "outputs": [],
   "source": [
    "tfidf_corpus = tfidf[corpus]"
   ]
  },
  {
   "cell_type": "code",
   "execution_count": 181,
   "metadata": {},
   "outputs": [
    {
     "data": {
      "text/plain": [
       "[(0, 0.3761667982035822),\n",
       " (1, 0.26389646958431284),\n",
       " (2, 0.10443605833877301),\n",
       " (3, 0.34941524548400327),\n",
       " (4, 0.24009920373087026),\n",
       " (5, 0.23125122693225136),\n",
       " (6, 0.2553192119986016),\n",
       " (7, 0.25844214505692115),\n",
       " (8, 0.27171706464209566),\n",
       " (9, 0.25094120993705943),\n",
       " (10, 0.19921215657214209),\n",
       " (11, 0.4010875670751712),\n",
       " (12, 0.27458316666238075)]"
      ]
     },
     "execution_count": 181,
     "metadata": {},
     "output_type": "execute_result"
    }
   ],
   "source": [
    "tfidf_corpus[0]"
   ]
  },
  {
   "cell_type": "code",
   "execution_count": 182,
   "metadata": {},
   "outputs": [],
   "source": [
    "# run parallelized LDA using Tf-IDF\n",
    "\n",
    "%timeit\n",
    "ldamodel = gensim.models.LdaMulticore(tfidf_corpus, num_topics = 10, id2word = dictionary, passes = 10, workers = 4)"
   ]
  },
  {
   "cell_type": "code",
   "execution_count": 183,
   "metadata": {},
   "outputs": [
    {
     "name": "stdout",
     "output_type": "stream",
     "text": [
      "Topic: 0\n",
      "Word: 0.067*\"effici\" + 0.037*\"help\" + 0.034*\"extrem\" + 0.033*\"awesom\" + 0.027*\"quick\" + 0.027*\"brilliant\" + 0.024*\"queri\" + 0.022*\"pleasant\" + 0.021*\"thank\" + 0.018*\"servic\"\n",
      "\n",
      "Topic: 1\n",
      "Word: 0.127*\"great\" + 0.056*\"servic\" + 0.047*\"fast\" + 0.044*\"custom\" + 0.041*\"help\" + 0.032*\"alway\" + 0.032*\"polit\" + 0.031*\"support\" + 0.025*\"best\" + 0.024*\"thank\"\n",
      "\n",
      "Topic: 2\n",
      "Word: 0.099*\"nice\" + 0.044*\"love\" + 0.037*\"fantast\" + 0.032*\"help\" + 0.027*\"ami\" + 0.022*\"person\" + 0.018*\"job\" + 0.017*\"talk\" + 0.017*\"realli\" + 0.015*\"thank\"\n",
      "\n",
      "Topic: 3\n",
      "Word: 0.013*\"aso\" + 0.013*\"order\" + 0.012*\"item\" + 0.010*\"return\" + 0.009*\"size\" + 0.008*\"shop\" + 0.008*\"cloth\" + 0.008*\"custom\" + 0.007*\"time\" + 0.007*\"send\"\n",
      "\n",
      "Topic: 4\n",
      "Word: 0.052*\"sort\" + 0.040*\"help\" + 0.038*\"realli\" + 0.033*\"miss\" + 0.029*\"straight\" + 0.029*\"issu\" + 0.027*\"problem\" + 0.026*\"away\" + 0.023*\"quick\" + 0.019*\"item\"\n",
      "\n",
      "Topic: 5\n",
      "Word: 0.288*\"help\" + 0.112*\"kind\" + 0.027*\"understand\" + 0.021*\"deliveri\" + 0.017*\"reassur\" + 0.013*\"order\" + 0.012*\"thank\" + 0.011*\"parcel\" + 0.010*\"exact\" + 0.009*\"delay\"\n",
      "\n",
      "Topic: 6\n",
      "Word: 0.085*\"quick\" + 0.060*\"help\" + 0.052*\"good\" + 0.046*\"thank\" + 0.045*\"respons\" + 0.038*\"friend\" + 0.031*\"answer\" + 0.030*\"fast\" + 0.027*\"amaz\" + 0.026*\"super\"\n",
      "\n",
      "Topic: 7\n",
      "Word: 0.013*\"order\" + 0.010*\"aso\" + 0.010*\"day\" + 0.009*\"refund\" + 0.009*\"email\" + 0.009*\"get\" + 0.009*\"deliveri\" + 0.009*\"custom\" + 0.008*\"receiv\" + 0.008*\"servic\"\n",
      "\n",
      "Topic: 8\n",
      "Word: 0.171*\"excel\" + 0.044*\"servic\" + 0.040*\"custom\" + 0.030*\"star\" + 0.028*\"daniel\" + 0.023*\"care\" + 0.022*\"5\" + 0.020*\"ryan\" + 0.018*\"help\" + 0.018*\"experi\"\n",
      "\n",
      "Topic: 9\n",
      "Word: 0.031*\"chat\" + 0.021*\"help\" + 0.020*\"minut\" + 0.019*\"resolv\" + 0.019*\"issu\" + 0.017*\"live\" + 0.016*\"quick\" + 0.014*\"within\" + 0.014*\"return\" + 0.014*\"speak\"\n",
      "\n"
     ]
    }
   ],
   "source": [
    "# show present topics\n",
    "\n",
    "for id, topic in ldamodel.print_topics(-1):\n",
    "    print('Topic: {}\\nWord: {}\\n'.format(id, topic))"
   ]
  },
  {
   "cell_type": "code",
   "execution_count": 184,
   "metadata": {},
   "outputs": [
    {
     "name": "stdout",
     "output_type": "stream",
     "text": [
      "\n",
      "Score: 0.7988787293434143\t \n",
      "Topic: 0.031*\"chat\" + 0.021*\"help\" + 0.020*\"minut\" + 0.019*\"resolv\" + 0.019*\"issu\"\n",
      "\n",
      "Score: 0.022356543689966202\t \n",
      "Topic: 0.067*\"effici\" + 0.037*\"help\" + 0.034*\"extrem\" + 0.033*\"awesom\" + 0.027*\"quick\"\n",
      "\n",
      "Score: 0.022356508299708366\t \n",
      "Topic: 0.085*\"quick\" + 0.060*\"help\" + 0.052*\"good\" + 0.046*\"thank\" + 0.045*\"respons\"\n",
      "\n",
      "Score: 0.022346768528223038\t \n",
      "Topic: 0.127*\"great\" + 0.056*\"servic\" + 0.047*\"fast\" + 0.044*\"custom\" + 0.041*\"help\"\n",
      "\n",
      "Score: 0.022346695885062218\t \n",
      "Topic: 0.099*\"nice\" + 0.044*\"love\" + 0.037*\"fantast\" + 0.032*\"help\" + 0.027*\"ami\"\n",
      "\n",
      "Score: 0.02234608493745327\t \n",
      "Topic: 0.052*\"sort\" + 0.040*\"help\" + 0.038*\"realli\" + 0.033*\"miss\" + 0.029*\"straight\"\n",
      "\n",
      "Score: 0.022344015538692474\t \n",
      "Topic: 0.171*\"excel\" + 0.044*\"servic\" + 0.040*\"custom\" + 0.030*\"star\" + 0.028*\"daniel\"\n",
      "\n",
      "Score: 0.022342020645737648\t \n",
      "Topic: 0.013*\"aso\" + 0.013*\"order\" + 0.012*\"item\" + 0.010*\"return\" + 0.009*\"size\"\n",
      "\n",
      "Score: 0.022342020645737648\t \n",
      "Topic: 0.013*\"order\" + 0.010*\"aso\" + 0.010*\"day\" + 0.009*\"refund\" + 0.009*\"email\"\n",
      "\n",
      "Score: 0.022340605035424232\t \n",
      "Topic: 0.288*\"help\" + 0.112*\"kind\" + 0.027*\"understand\" + 0.021*\"deliveri\" + 0.017*\"reassur\"\n"
     ]
    }
   ],
   "source": [
    "# Assessing classifications \n",
    "\n",
    "for index, score in sorted(ldamodel[tfidf_corpus[0]], key = lambda tup: -1*tup[1]):\n",
    "    print(\"\\nScore: {}\\t \\nTopic: {}\".format(score, ldamodel.print_topic(index, 5)))"
   ]
  },
  {
   "cell_type": "code",
   "execution_count": 185,
   "metadata": {},
   "outputs": [],
   "source": [
    "# Create new column with the topic\n",
    "\n",
    "reviews['topic'] = ''\n",
    "\n",
    "reviews['topic'] = [max(p, key = lambda item: item[1]) for p in ldamodel[tfidf_corpus]]"
   ]
  },
  {
   "cell_type": "code",
   "execution_count": 186,
   "metadata": {},
   "outputs": [
    {
     "data": {
      "text/html": [
       "<div>\n",
       "<style scoped>\n",
       "    .dataframe tbody tr th:only-of-type {\n",
       "        vertical-align: middle;\n",
       "    }\n",
       "\n",
       "    .dataframe tbody tr th {\n",
       "        vertical-align: top;\n",
       "    }\n",
       "\n",
       "    .dataframe thead th {\n",
       "        text-align: right;\n",
       "    }\n",
       "</style>\n",
       "<table border=\"1\" class=\"dataframe\">\n",
       "  <thead>\n",
       "    <tr style=\"text-align: right;\">\n",
       "      <th></th>\n",
       "      <th>reviews</th>\n",
       "      <th>original</th>\n",
       "      <th>scores</th>\n",
       "      <th>compound</th>\n",
       "      <th>sentiment</th>\n",
       "      <th>topic</th>\n",
       "    </tr>\n",
       "  </thead>\n",
       "  <tbody>\n",
       "    <tr>\n",
       "      <th>0</th>\n",
       "      <td>[cristi, amaz, spoke, cristi, brilliant, altho...</td>\n",
       "      <td>Cristy was amazing                            ...</td>\n",
       "      <td>{'neg': 0.048, 'neu': 0.616, 'pos': 0.336, 'co...</td>\n",
       "      <td>0.9334</td>\n",
       "      <td>pos</td>\n",
       "      <td>(9, 0.7988749)</td>\n",
       "    </tr>\n",
       "    <tr>\n",
       "      <th>1</th>\n",
       "      <td>[unhappi, custom, place, order, end, novemb, b...</td>\n",
       "      <td>Unhappy customer                              ...</td>\n",
       "      <td>{'neg': 0.156, 'neu': 0.827, 'pos': 0.017, 'co...</td>\n",
       "      <td>-0.9917</td>\n",
       "      <td>neg</td>\n",
       "      <td>(7, 0.65061045)</td>\n",
       "    </tr>\n",
       "    <tr>\n",
       "      <th>2</th>\n",
       "      <td>[still, wait, place, order, 3rd, decemb, still...</td>\n",
       "      <td>Still Waiting                                P...</td>\n",
       "      <td>{'neg': 0.0, 'neu': 1.0, 'pos': 0.0, 'compound...</td>\n",
       "      <td>0.0000</td>\n",
       "      <td>neu</td>\n",
       "      <td>(7, 0.7553278)</td>\n",
       "    </tr>\n",
       "    <tr>\n",
       "      <th>3</th>\n",
       "      <td>[great, sale, support, great, sale, support, t...</td>\n",
       "      <td>Great after sales support                     ...</td>\n",
       "      <td>{'neg': 0.0, 'neu': 0.234, 'pos': 0.766, 'comp...</td>\n",
       "      <td>0.9468</td>\n",
       "      <td>pos</td>\n",
       "      <td>(1, 0.39228028)</td>\n",
       "    </tr>\n",
       "    <tr>\n",
       "      <th>4</th>\n",
       "      <td>[michael, polit, help, michael, polit, help, s...</td>\n",
       "      <td>Michael was very polite and helpful…          ...</td>\n",
       "      <td>{'neg': 0.119, 'neu': 0.662, 'pos': 0.219, 'co...</td>\n",
       "      <td>0.3102</td>\n",
       "      <td>pos</td>\n",
       "      <td>(2, 0.42241624)</td>\n",
       "    </tr>\n",
       "  </tbody>\n",
       "</table>\n",
       "</div>"
      ],
      "text/plain": [
       "                                             reviews  \\\n",
       "0  [cristi, amaz, spoke, cristi, brilliant, altho...   \n",
       "1  [unhappi, custom, place, order, end, novemb, b...   \n",
       "2  [still, wait, place, order, 3rd, decemb, still...   \n",
       "3  [great, sale, support, great, sale, support, t...   \n",
       "4  [michael, polit, help, michael, polit, help, s...   \n",
       "\n",
       "                                            original  \\\n",
       "0  Cristy was amazing                            ...   \n",
       "1  Unhappy customer                              ...   \n",
       "2  Still Waiting                                P...   \n",
       "3  Great after sales support                     ...   \n",
       "4  Michael was very polite and helpful…          ...   \n",
       "\n",
       "                                              scores  compound sentiment  \\\n",
       "0  {'neg': 0.048, 'neu': 0.616, 'pos': 0.336, 'co...    0.9334       pos   \n",
       "1  {'neg': 0.156, 'neu': 0.827, 'pos': 0.017, 'co...   -0.9917       neg   \n",
       "2  {'neg': 0.0, 'neu': 1.0, 'pos': 0.0, 'compound...    0.0000       neu   \n",
       "3  {'neg': 0.0, 'neu': 0.234, 'pos': 0.766, 'comp...    0.9468       pos   \n",
       "4  {'neg': 0.119, 'neu': 0.662, 'pos': 0.219, 'co...    0.3102       pos   \n",
       "\n",
       "             topic  \n",
       "0   (9, 0.7988749)  \n",
       "1  (7, 0.65061045)  \n",
       "2   (7, 0.7553278)  \n",
       "3  (1, 0.39228028)  \n",
       "4  (2, 0.42241624)  "
      ]
     },
     "execution_count": 186,
     "metadata": {},
     "output_type": "execute_result"
    }
   ],
   "source": [
    "reviews.head()"
   ]
  },
  {
   "cell_type": "code",
   "execution_count": 187,
   "metadata": {},
   "outputs": [],
   "source": [
    "# Create two separate columns for the topic ID and topic score\n",
    "\n",
    "reviews[['topic_id', 'topic_score']] = reviews['topic'].apply(pd.Series)"
   ]
  },
  {
   "cell_type": "code",
   "execution_count": 188,
   "metadata": {},
   "outputs": [
    {
     "data": {
      "text/html": [
       "<div>\n",
       "<style scoped>\n",
       "    .dataframe tbody tr th:only-of-type {\n",
       "        vertical-align: middle;\n",
       "    }\n",
       "\n",
       "    .dataframe tbody tr th {\n",
       "        vertical-align: top;\n",
       "    }\n",
       "\n",
       "    .dataframe thead th {\n",
       "        text-align: right;\n",
       "    }\n",
       "</style>\n",
       "<table border=\"1\" class=\"dataframe\">\n",
       "  <thead>\n",
       "    <tr style=\"text-align: right;\">\n",
       "      <th></th>\n",
       "      <th>reviews</th>\n",
       "      <th>original</th>\n",
       "      <th>scores</th>\n",
       "      <th>compound</th>\n",
       "      <th>sentiment</th>\n",
       "      <th>topic</th>\n",
       "      <th>topic_id</th>\n",
       "      <th>topic_score</th>\n",
       "    </tr>\n",
       "  </thead>\n",
       "  <tbody>\n",
       "    <tr>\n",
       "      <th>0</th>\n",
       "      <td>[cristi, amaz, spoke, cristi, brilliant, altho...</td>\n",
       "      <td>Cristy was amazing                            ...</td>\n",
       "      <td>{'neg': 0.048, 'neu': 0.616, 'pos': 0.336, 'co...</td>\n",
       "      <td>0.9334</td>\n",
       "      <td>pos</td>\n",
       "      <td>(9, 0.7988749)</td>\n",
       "      <td>9.0</td>\n",
       "      <td>0.798875</td>\n",
       "    </tr>\n",
       "    <tr>\n",
       "      <th>1</th>\n",
       "      <td>[unhappi, custom, place, order, end, novemb, b...</td>\n",
       "      <td>Unhappy customer                              ...</td>\n",
       "      <td>{'neg': 0.156, 'neu': 0.827, 'pos': 0.017, 'co...</td>\n",
       "      <td>-0.9917</td>\n",
       "      <td>neg</td>\n",
       "      <td>(7, 0.65061045)</td>\n",
       "      <td>7.0</td>\n",
       "      <td>0.650610</td>\n",
       "    </tr>\n",
       "    <tr>\n",
       "      <th>2</th>\n",
       "      <td>[still, wait, place, order, 3rd, decemb, still...</td>\n",
       "      <td>Still Waiting                                P...</td>\n",
       "      <td>{'neg': 0.0, 'neu': 1.0, 'pos': 0.0, 'compound...</td>\n",
       "      <td>0.0000</td>\n",
       "      <td>neu</td>\n",
       "      <td>(7, 0.7553278)</td>\n",
       "      <td>7.0</td>\n",
       "      <td>0.755328</td>\n",
       "    </tr>\n",
       "    <tr>\n",
       "      <th>3</th>\n",
       "      <td>[great, sale, support, great, sale, support, t...</td>\n",
       "      <td>Great after sales support                     ...</td>\n",
       "      <td>{'neg': 0.0, 'neu': 0.234, 'pos': 0.766, 'comp...</td>\n",
       "      <td>0.9468</td>\n",
       "      <td>pos</td>\n",
       "      <td>(1, 0.39228028)</td>\n",
       "      <td>1.0</td>\n",
       "      <td>0.392280</td>\n",
       "    </tr>\n",
       "    <tr>\n",
       "      <th>4</th>\n",
       "      <td>[michael, polit, help, michael, polit, help, s...</td>\n",
       "      <td>Michael was very polite and helpful…          ...</td>\n",
       "      <td>{'neg': 0.119, 'neu': 0.662, 'pos': 0.219, 'co...</td>\n",
       "      <td>0.3102</td>\n",
       "      <td>pos</td>\n",
       "      <td>(2, 0.42241624)</td>\n",
       "      <td>2.0</td>\n",
       "      <td>0.422416</td>\n",
       "    </tr>\n",
       "  </tbody>\n",
       "</table>\n",
       "</div>"
      ],
      "text/plain": [
       "                                             reviews  \\\n",
       "0  [cristi, amaz, spoke, cristi, brilliant, altho...   \n",
       "1  [unhappi, custom, place, order, end, novemb, b...   \n",
       "2  [still, wait, place, order, 3rd, decemb, still...   \n",
       "3  [great, sale, support, great, sale, support, t...   \n",
       "4  [michael, polit, help, michael, polit, help, s...   \n",
       "\n",
       "                                            original  \\\n",
       "0  Cristy was amazing                            ...   \n",
       "1  Unhappy customer                              ...   \n",
       "2  Still Waiting                                P...   \n",
       "3  Great after sales support                     ...   \n",
       "4  Michael was very polite and helpful…          ...   \n",
       "\n",
       "                                              scores  compound sentiment  \\\n",
       "0  {'neg': 0.048, 'neu': 0.616, 'pos': 0.336, 'co...    0.9334       pos   \n",
       "1  {'neg': 0.156, 'neu': 0.827, 'pos': 0.017, 'co...   -0.9917       neg   \n",
       "2  {'neg': 0.0, 'neu': 1.0, 'pos': 0.0, 'compound...    0.0000       neu   \n",
       "3  {'neg': 0.0, 'neu': 0.234, 'pos': 0.766, 'comp...    0.9468       pos   \n",
       "4  {'neg': 0.119, 'neu': 0.662, 'pos': 0.219, 'co...    0.3102       pos   \n",
       "\n",
       "             topic  topic_id  topic_score  \n",
       "0   (9, 0.7988749)       9.0     0.798875  \n",
       "1  (7, 0.65061045)       7.0     0.650610  \n",
       "2   (7, 0.7553278)       7.0     0.755328  \n",
       "3  (1, 0.39228028)       1.0     0.392280  \n",
       "4  (2, 0.42241624)       2.0     0.422416  "
      ]
     },
     "execution_count": 188,
     "metadata": {},
     "output_type": "execute_result"
    }
   ],
   "source": [
    "reviews.head()"
   ]
  },
  {
   "cell_type": "markdown",
   "metadata": {},
   "source": [
    "### Visual representation\n",
    "\n",
    "https://github.com/estebanvillaturek/covid19"
   ]
  },
  {
   "cell_type": "code",
   "execution_count": 190,
   "metadata": {},
   "outputs": [],
   "source": [
    "# Negative reviews\n",
    "\n",
    "negative = reviews.loc[reviews['sentiment'] == 'neg']"
   ]
  },
  {
   "cell_type": "code",
   "execution_count": 191,
   "metadata": {},
   "outputs": [
    {
     "data": {
      "text/plain": [
       "(4562, 8)"
      ]
     },
     "execution_count": 191,
     "metadata": {},
     "output_type": "execute_result"
    }
   ],
   "source": [
    "negative.shape"
   ]
  },
  {
   "cell_type": "code",
   "execution_count": 192,
   "metadata": {},
   "outputs": [
    {
     "data": {
      "image/png": "[encoded data removed]",
      "text/plain": [
       "<Figure size 432x288 with 1 Axes>"
      ]
     },
     "metadata": {
      "needs_background": "light"
     },
     "output_type": "display_data"
    }
   ],
   "source": [
    "# Bar plot to see the most common topic\n",
    "\n",
    "round(negative.topic_id.value_counts()/len(negative), 2).plot(kind = \"bar\");"
   ]
  },
  {
   "cell_type": "code",
   "execution_count": 193,
   "metadata": {},
   "outputs": [
    {
     "name": "stdout",
     "output_type": "stream",
     "text": [
      "0.10000000149011612 0.9223010540008545\n"
     ]
    }
   ],
   "source": [
    "print(min(negative.topic_score), max(negative.topic_score))"
   ]
  },
  {
   "cell_type": "code",
   "execution_count": 194,
   "metadata": {},
   "outputs": [],
   "source": [
    "# Positive reviews\n",
    "\n",
    "positive = reviews.loc[reviews['sentiment'] == 'pos']"
   ]
  },
  {
   "cell_type": "code",
   "execution_count": 195,
   "metadata": {},
   "outputs": [
    {
     "data": {
      "text/plain": [
       "(14629, 8)"
      ]
     },
     "execution_count": 195,
     "metadata": {},
     "output_type": "execute_result"
    }
   ],
   "source": [
    "positive.shape"
   ]
  },
  {
   "cell_type": "code",
   "execution_count": 198,
   "metadata": {},
   "outputs": [
    {
     "data": {
      "image/png": "[encoded data removed]",
      "text/plain": [
       "<Figure size 432x288 with 1 Axes>"
      ]
     },
     "metadata": {
      "needs_background": "light"
     },
     "output_type": "display_data"
    }
   ],
   "source": [
    "round(positive.topic_id.value_counts()/len(positive), 2).plot(kind = 'bar');"
   ]
  },
  {
   "cell_type": "code",
   "execution_count": 197,
   "metadata": {},
   "outputs": [
    {
     "name": "stdout",
     "output_type": "stream",
     "text": [
      "0.10000000149011612 0.919865071773529\n"
     ]
    }
   ],
   "source": [
    "print(min(positive.topic_score), max(positive.topic_score))"
   ]
  },
  {
   "cell_type": "code",
   "execution_count": 199,
   "metadata": {},
   "outputs": [],
   "source": [
    "neutral = reviews.loc[reviews['sentiment'] == 'neu']"
   ]
  },
  {
   "cell_type": "code",
   "execution_count": 200,
   "metadata": {},
   "outputs": [
    {
     "data": {
      "text/plain": [
       "(809, 8)"
      ]
     },
     "execution_count": 200,
     "metadata": {},
     "output_type": "execute_result"
    }
   ],
   "source": [
    "neutral.shape"
   ]
  },
  {
   "cell_type": "code",
   "execution_count": 201,
   "metadata": {},
   "outputs": [
    {
     "data": {
      "image/png": "[encoded data removed]",
      "text/plain": [
       "<Figure size 432x288 with 1 Axes>"
      ]
     },
     "metadata": {
      "needs_background": "light"
     },
     "output_type": "display_data"
    }
   ],
   "source": [
    "round(neutral.topic_id.value_counts()/len(neutral), 2).plot(kind = 'bar');"
   ]
  },
  {
   "cell_type": "code",
   "execution_count": 202,
   "metadata": {},
   "outputs": [
    {
     "name": "stdout",
     "output_type": "stream",
     "text": [
      "0.10000000149011612 0.8917663097381592\n"
     ]
    }
   ],
   "source": [
    "print(min(neutral.topic_score), max(neutral.topic_score))"
   ]
  },
  {
   "cell_type": "code",
   "execution_count": null,
   "metadata": {},
   "outputs": [],
   "source": []
  }
 ],
 "metadata": {
  "kernelspec": {
   "display_name": "Python 3",
   "language": "python",
   "name": "python3"
  },
  "language_info": {
   "codemirror_mode": {
    "name": "ipython",
    "version": 3
   },
   "file_extension": ".py",
   "mimetype": "text/x-python",
   "name": "python",
   "nbconvert_exporter": "python",
   "pygments_lexer": "ipython3",
   "version": "3.7.6"
  }
 },
 "nbformat": 4,
 "nbformat_minor": 4
}
